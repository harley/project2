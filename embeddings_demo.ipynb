{
 "cells": [
  {
   "cell_type": "code",
   "execution_count": 1,
   "metadata": {},
   "outputs": [
    {
     "name": "stdout",
     "output_type": "stream",
     "text": [
      "Phrase: Who was the first president of the United States?\n",
      "Embedding: [-0.00529869 -0.02196502 -0.01970232 -0.02279548 -0.00797962]\n"
     ]
    }
   ],
   "source": [
    "from llama_index.embeddings.openai import OpenAIEmbedding\n",
    "from sklearn.metrics.pairwise import cosine_similarity\n",
    "import numpy as np\n",
    "\n",
    "# initialize OpenAI embedding model\n",
    "embed_model = OpenAIEmbedding(model=\"text-embedding-ada-002\")\n",
    "\n",
    "# define trivial questions and answers\n",
    "phrases = [\n",
    "    \"Who was the first president of the United States?\",\n",
    "    \"What is the capital city of France?\",\n",
    "    \"In what year did humans first land on the moon?\",\n",
    "    \"Which element on the periodic table has the chemical symbol O?\",\n",
    "    \"What is the largest planet in the solar system?\",\n",
    "    \"The first president of the United States was George Washington.\",\n",
    "    \"The capital city of France is Paris.\",\n",
    "    \"Humans first landed on the moon in the year 1969.\",\n",
    "    \"The chemical symbol O represents the element Oxygen.\",\n",
    "    \"The largest planet in the solar system is Jupiter.\"\n",
    "]\n",
    "\n",
    "# generate embeddings for phrases\n",
    "embeddings = embed_model.get_text_embedding_batch(phrases)\n",
    "\n",
    "# convert embeddings to numpy arrays\n",
    "embeddings = np.array(embeddings)\n",
    "\n",
    "# print the first phrase and the first several elements of the embedding\n",
    "print(f\"Phrase: {phrases[0]}\")\n",
    "print(f\"Embedding: {embeddings[0][:5]}\")"
   ]
  },
  {
   "cell_type": "code",
   "execution_count": 3,
   "metadata": {},
   "outputs": [
    {
     "name": "stdout",
     "output_type": "stream",
     "text": [
      "Cosine Similarity Matrix: [[1.   0.78 0.83 0.76 0.76 0.92 0.75 0.78 0.72 0.73]\n",
      " [0.78 1.   0.74 0.75 0.77 0.75 0.94 0.72 0.73 0.73]\n",
      " [0.83 0.74 1.   0.75 0.78 0.78 0.72 0.93 0.72 0.74]\n",
      " [0.76 0.75 0.75 1.   0.77 0.73 0.74 0.73 0.93 0.75]\n",
      " [0.76 0.77 0.78 0.77 1.   0.72 0.75 0.75 0.73 0.93]\n",
      " [0.92 0.75 0.78 0.73 0.72 1.   0.79 0.78 0.74 0.76]\n",
      " [0.75 0.94 0.72 0.74 0.75 0.79 1.   0.74 0.76 0.78]\n",
      " [0.78 0.72 0.93 0.73 0.75 0.78 0.74 1.   0.74 0.76]\n",
      " [0.72 0.73 0.72 0.93 0.73 0.74 0.76 0.74 1.   0.76]\n",
      " [0.73 0.73 0.74 0.75 0.93 0.76 0.78 0.76 0.76 1.  ]]\n"
     ]
    }
   ],
   "source": [
    "# compute cosine similarity between the embeddings\n",
    "similarity_matrix = cosine_similarity(embeddings)\n",
    "rounded_similarity_matrix = np.round(similarity_matrix, 2)\n",
    "# print the cosine similarity matrix\n",
    "print(f\"Cosine Similarity Matrix: {rounded_similarity_matrix}\")"
   ]
  },
  {
   "cell_type": "code",
   "execution_count": 8,
   "metadata": {},
   "outputs": [
    {
     "name": "stdout",
     "output_type": "stream",
     "text": [
      "Phrase: Who was the first president of the United States?\n",
      "  0.78: What is the capital city of France?\n",
      "  0.83: In what year did humans first land on the moon?\n",
      "  0.76: Which element on the periodic table has the chemical symbol O?\n",
      "  0.76: What is the largest planet in the solar system?\n",
      "  0.92: The first president of the United States was George Washington.\n",
      "  0.75: The capital city of France is Paris.\n",
      "  0.78: Humans first landed on the moon in the year 1969.\n",
      "  0.72: The chemical symbol O represents the element Oxygen.\n",
      "  0.73: The largest planet in the solar system is Jupiter.\n",
      "\n",
      "Phrase: What is the capital city of France?\n",
      "  0.78: Who was the first president of the United States?\n",
      "  0.74: In what year did humans first land on the moon?\n",
      "  0.75: Which element on the periodic table has the chemical symbol O?\n",
      "  0.77: What is the largest planet in the solar system?\n",
      "  0.75: The first president of the United States was George Washington.\n",
      "  0.94: The capital city of France is Paris.\n",
      "  0.72: Humans first landed on the moon in the year 1969.\n",
      "  0.73: The chemical symbol O represents the element Oxygen.\n",
      "  0.73: The largest planet in the solar system is Jupiter.\n",
      "\n",
      "Phrase: In what year did humans first land on the moon?\n",
      "  0.83: Who was the first president of the United States?\n",
      "  0.74: What is the capital city of France?\n",
      "  0.75: Which element on the periodic table has the chemical symbol O?\n",
      "  0.78: What is the largest planet in the solar system?\n",
      "  0.78: The first president of the United States was George Washington.\n",
      "  0.72: The capital city of France is Paris.\n",
      "  0.93: Humans first landed on the moon in the year 1969.\n",
      "  0.72: The chemical symbol O represents the element Oxygen.\n",
      "  0.74: The largest planet in the solar system is Jupiter.\n",
      "\n",
      "Phrase: Which element on the periodic table has the chemical symbol O?\n",
      "  0.76: Who was the first president of the United States?\n",
      "  0.75: What is the capital city of France?\n",
      "  0.75: In what year did humans first land on the moon?\n",
      "  0.77: What is the largest planet in the solar system?\n",
      "  0.73: The first president of the United States was George Washington.\n",
      "  0.74: The capital city of France is Paris.\n",
      "  0.73: Humans first landed on the moon in the year 1969.\n",
      "  0.93: The chemical symbol O represents the element Oxygen.\n",
      "  0.75: The largest planet in the solar system is Jupiter.\n",
      "\n",
      "Phrase: What is the largest planet in the solar system?\n",
      "  0.76: Who was the first president of the United States?\n",
      "  0.77: What is the capital city of France?\n",
      "  0.78: In what year did humans first land on the moon?\n",
      "  0.77: Which element on the periodic table has the chemical symbol O?\n",
      "  0.72: The first president of the United States was George Washington.\n",
      "  0.75: The capital city of France is Paris.\n",
      "  0.75: Humans first landed on the moon in the year 1969.\n",
      "  0.73: The chemical symbol O represents the element Oxygen.\n",
      "  0.93: The largest planet in the solar system is Jupiter.\n",
      "\n",
      "Phrase: The first president of the United States was George Washington.\n",
      "  0.92: Who was the first president of the United States?\n",
      "  0.75: What is the capital city of France?\n",
      "  0.78: In what year did humans first land on the moon?\n",
      "  0.73: Which element on the periodic table has the chemical symbol O?\n",
      "  0.72: What is the largest planet in the solar system?\n",
      "  0.79: The capital city of France is Paris.\n",
      "  0.78: Humans first landed on the moon in the year 1969.\n",
      "  0.74: The chemical symbol O represents the element Oxygen.\n",
      "  0.76: The largest planet in the solar system is Jupiter.\n",
      "\n",
      "Phrase: The capital city of France is Paris.\n",
      "  0.75: Who was the first president of the United States?\n",
      "  0.94: What is the capital city of France?\n",
      "  0.72: In what year did humans first land on the moon?\n",
      "  0.74: Which element on the periodic table has the chemical symbol O?\n",
      "  0.75: What is the largest planet in the solar system?\n",
      "  0.79: The first president of the United States was George Washington.\n",
      "  0.74: Humans first landed on the moon in the year 1969.\n",
      "  0.76: The chemical symbol O represents the element Oxygen.\n",
      "  0.78: The largest planet in the solar system is Jupiter.\n",
      "\n",
      "Phrase: Humans first landed on the moon in the year 1969.\n",
      "  0.78: Who was the first president of the United States?\n",
      "  0.72: What is the capital city of France?\n",
      "  0.93: In what year did humans first land on the moon?\n",
      "  0.73: Which element on the periodic table has the chemical symbol O?\n",
      "  0.75: What is the largest planet in the solar system?\n",
      "  0.78: The first president of the United States was George Washington.\n",
      "  0.74: The capital city of France is Paris.\n",
      "  0.74: The chemical symbol O represents the element Oxygen.\n",
      "  0.76: The largest planet in the solar system is Jupiter.\n",
      "\n",
      "Phrase: The chemical symbol O represents the element Oxygen.\n",
      "  0.72: Who was the first president of the United States?\n",
      "  0.73: What is the capital city of France?\n",
      "  0.72: In what year did humans first land on the moon?\n",
      "  0.93: Which element on the periodic table has the chemical symbol O?\n",
      "  0.73: What is the largest planet in the solar system?\n",
      "  0.74: The first president of the United States was George Washington.\n",
      "  0.76: The capital city of France is Paris.\n",
      "  0.74: Humans first landed on the moon in the year 1969.\n",
      "  0.76: The largest planet in the solar system is Jupiter.\n",
      "\n",
      "Phrase: The largest planet in the solar system is Jupiter.\n",
      "  0.73: Who was the first president of the United States?\n",
      "  0.73: What is the capital city of France?\n",
      "  0.74: In what year did humans first land on the moon?\n",
      "  0.75: Which element on the periodic table has the chemical symbol O?\n",
      "  0.93: What is the largest planet in the solar system?\n",
      "  0.76: The first president of the United States was George Washington.\n",
      "  0.78: The capital city of France is Paris.\n",
      "  0.76: Humans first landed on the moon in the year 1969.\n",
      "  0.76: The chemical symbol O represents the element Oxygen.\n",
      "\n"
     ]
    }
   ],
   "source": [
    "# output the comparison between phrases with improved readability\n",
    "for i, phrase in enumerate(phrases):\n",
    "    print(f\"Phrase: {phrase}\")\n",
    "    for j, other_phrase in enumerate(phrases):\n",
    "        if i != j:\n",
    "            print(f\"  {rounded_similarity_matrix[i, j]:.2f}: {other_phrase}\")\n",
    "    print()"
   ]
  },
  {
   "cell_type": "markdown",
   "metadata": {},
   "source": [
    "Let's see how well it does if the questions and answers are all about the same topic.\n",
    "For example, Astronomy."
   ]
  },
  {
   "cell_type": "code",
   "execution_count": 9,
   "metadata": {},
   "outputs": [
    {
     "name": "stdout",
     "output_type": "stream",
     "text": [
      "Phrase: What year did the first human land on the moon?\n",
      "Embedding: [ 0.0055372  -0.03727422  0.00532086 -0.02473242 -0.02219898]\n"
     ]
    }
   ],
   "source": [
    "astronomy_phrases = [\n",
    "    \"What year did the first human land on the moon?\",\n",
    "    \"Which planet is known as the Red Planet?\",\n",
    "    \"What is the largest moon of Saturn?\",\n",
    "    \"Who was the first person to travel into space?\",\n",
    "    \"What is the name of NASA's rover that landed on Mars in 2021?\",\n",
    "    \"The first human landed on the moon in 1969.\",\n",
    "    \"The planet known as the Red Planet is Mars.\",\n",
    "    \"The largest moon of Saturn is Titan.\",\n",
    "    \"Yuri Gagarin was the first person to travel into space.\",\n",
    "    \"NASA's rover that landed on Mars in 2021 is named Perseverance.\"\n",
    "]\n",
    "\n",
    "astronomy_embeddings = embed_model.get_text_embedding_batch(astronomy_phrases)\n",
    "astronomy_embeddings_array = np.array(astronomy_embeddings)\n",
    "\n",
    "# Print the first phrase and the first several elements of its embedding\n",
    "print(f\"Phrase: {astronomy_phrases[0]}\")\n",
    "print(f\"Embedding: {astronomy_embeddings_array[0][:5]}\")"
   ]
  },
  {
   "cell_type": "code",
   "execution_count": 10,
   "metadata": {},
   "outputs": [
    {
     "name": "stdout",
     "output_type": "stream",
     "text": [
      "Cosine Similarity Matrix: [[1.   0.77 0.79 0.86 0.82 0.94 0.76 0.76 0.81 0.79]\n",
      " [0.77 1.   0.8  0.79 0.82 0.76 0.95 0.79 0.76 0.8 ]\n",
      " [0.79 0.8  1.   0.77 0.77 0.76 0.78 0.94 0.74 0.74]\n",
      " [0.86 0.79 0.77 1.   0.8  0.85 0.77 0.75 0.92 0.77]\n",
      " [0.82 0.82 0.77 0.8  1.   0.8  0.82 0.74 0.75 0.93]\n",
      " [0.94 0.76 0.76 0.85 0.8  1.   0.78 0.78 0.83 0.81]\n",
      " [0.76 0.95 0.78 0.77 0.82 0.78 1.   0.81 0.77 0.84]\n",
      " [0.76 0.79 0.94 0.75 0.74 0.78 0.81 1.   0.76 0.76]\n",
      " [0.81 0.76 0.74 0.92 0.75 0.83 0.77 0.76 1.   0.76]\n",
      " [0.79 0.8  0.74 0.77 0.93 0.81 0.84 0.76 0.76 1.  ]]\n"
     ]
    }
   ],
   "source": [
    "\n",
    "# compute cosine similarity between the embeddings\n",
    "astronomy_similarity_matrix = cosine_similarity(astronomy_embeddings_array)\n",
    "rounded_astronomy_similarity_matrix = np.round(astronomy_similarity_matrix, 2)\n",
    "\n",
    "# print the cosine similarity matrix\n",
    "print(f\"Cosine Similarity Matrix: {rounded_astronomy_similarity_matrix}\")\n"
   ]
  },
  {
   "cell_type": "code",
   "execution_count": 13,
   "metadata": {},
   "outputs": [
    {
     "name": "stdout",
     "output_type": "stream",
     "text": [
      "Phrase: What year did the first human land on the moon?\n",
      "  0.77: Which planet is known as the Red Planet?\n",
      "  0.79: What is the largest moon of Saturn?\n",
      "  0.86: Who was the first person to travel into space?\n",
      "  0.82: What is the name of NASA's rover that landed on Mars in 2021?\n",
      "  0.94: The first human landed on the moon in 1969.\n",
      "  0.76: The planet known as the Red Planet is Mars.\n",
      "  0.76: The largest moon of Saturn is Titan.\n",
      "  0.81: Yuri Gagarin was the first person to travel into space.\n",
      "  0.79: NASA's rover that landed on Mars in 2021 is named Perseverance.\n",
      "\n",
      "Phrase: Which planet is known as the Red Planet?\n",
      "  0.77: What year did the first human land on the moon?\n",
      "  0.80: What is the largest moon of Saturn?\n",
      "  0.79: Who was the first person to travel into space?\n",
      "  0.82: What is the name of NASA's rover that landed on Mars in 2021?\n",
      "  0.76: The first human landed on the moon in 1969.\n",
      "  0.95: The planet known as the Red Planet is Mars.\n",
      "  0.79: The largest moon of Saturn is Titan.\n",
      "  0.76: Yuri Gagarin was the first person to travel into space.\n",
      "  0.80: NASA's rover that landed on Mars in 2021 is named Perseverance.\n",
      "\n",
      "Phrase: What is the largest moon of Saturn?\n",
      "  0.79: What year did the first human land on the moon?\n",
      "  0.80: Which planet is known as the Red Planet?\n",
      "  0.77: Who was the first person to travel into space?\n",
      "  0.77: What is the name of NASA's rover that landed on Mars in 2021?\n",
      "  0.76: The first human landed on the moon in 1969.\n",
      "  0.78: The planet known as the Red Planet is Mars.\n",
      "  0.94: The largest moon of Saturn is Titan.\n",
      "  0.74: Yuri Gagarin was the first person to travel into space.\n",
      "  0.74: NASA's rover that landed on Mars in 2021 is named Perseverance.\n",
      "\n",
      "Phrase: Who was the first person to travel into space?\n",
      "  0.86: What year did the first human land on the moon?\n",
      "  0.79: Which planet is known as the Red Planet?\n",
      "  0.77: What is the largest moon of Saturn?\n",
      "  0.80: What is the name of NASA's rover that landed on Mars in 2021?\n",
      "  0.85: The first human landed on the moon in 1969.\n",
      "  0.77: The planet known as the Red Planet is Mars.\n",
      "  0.75: The largest moon of Saturn is Titan.\n",
      "  0.92: Yuri Gagarin was the first person to travel into space.\n",
      "  0.77: NASA's rover that landed on Mars in 2021 is named Perseverance.\n",
      "\n",
      "Phrase: What is the name of NASA's rover that landed on Mars in 2021?\n",
      "  0.82: What year did the first human land on the moon?\n",
      "  0.82: Which planet is known as the Red Planet?\n",
      "  0.77: What is the largest moon of Saturn?\n",
      "  0.80: Who was the first person to travel into space?\n",
      "  0.80: The first human landed on the moon in 1969.\n",
      "  0.82: The planet known as the Red Planet is Mars.\n",
      "  0.74: The largest moon of Saturn is Titan.\n",
      "  0.75: Yuri Gagarin was the first person to travel into space.\n",
      "  0.93: NASA's rover that landed on Mars in 2021 is named Perseverance.\n",
      "\n",
      "Phrase: The first human landed on the moon in 1969.\n",
      "  0.94: What year did the first human land on the moon?\n",
      "  0.76: Which planet is known as the Red Planet?\n",
      "  0.76: What is the largest moon of Saturn?\n",
      "  0.85: Who was the first person to travel into space?\n",
      "  0.80: What is the name of NASA's rover that landed on Mars in 2021?\n",
      "  0.78: The planet known as the Red Planet is Mars.\n",
      "  0.78: The largest moon of Saturn is Titan.\n",
      "  0.83: Yuri Gagarin was the first person to travel into space.\n",
      "  0.81: NASA's rover that landed on Mars in 2021 is named Perseverance.\n",
      "\n",
      "Phrase: The planet known as the Red Planet is Mars.\n",
      "  0.76: What year did the first human land on the moon?\n",
      "  0.95: Which planet is known as the Red Planet?\n",
      "  0.78: What is the largest moon of Saturn?\n",
      "  0.77: Who was the first person to travel into space?\n",
      "  0.82: What is the name of NASA's rover that landed on Mars in 2021?\n",
      "  0.78: The first human landed on the moon in 1969.\n",
      "  0.81: The largest moon of Saturn is Titan.\n",
      "  0.77: Yuri Gagarin was the first person to travel into space.\n",
      "  0.84: NASA's rover that landed on Mars in 2021 is named Perseverance.\n",
      "\n",
      "Phrase: The largest moon of Saturn is Titan.\n",
      "  0.76: What year did the first human land on the moon?\n",
      "  0.79: Which planet is known as the Red Planet?\n",
      "  0.94: What is the largest moon of Saturn?\n",
      "  0.75: Who was the first person to travel into space?\n",
      "  0.74: What is the name of NASA's rover that landed on Mars in 2021?\n",
      "  0.78: The first human landed on the moon in 1969.\n",
      "  0.81: The planet known as the Red Planet is Mars.\n",
      "  0.76: Yuri Gagarin was the first person to travel into space.\n",
      "  0.76: NASA's rover that landed on Mars in 2021 is named Perseverance.\n",
      "\n",
      "Phrase: Yuri Gagarin was the first person to travel into space.\n",
      "  0.81: What year did the first human land on the moon?\n",
      "  0.76: Which planet is known as the Red Planet?\n",
      "  0.74: What is the largest moon of Saturn?\n",
      "  0.92: Who was the first person to travel into space?\n",
      "  0.75: What is the name of NASA's rover that landed on Mars in 2021?\n",
      "  0.83: The first human landed on the moon in 1969.\n",
      "  0.77: The planet known as the Red Planet is Mars.\n",
      "  0.76: The largest moon of Saturn is Titan.\n",
      "  0.76: NASA's rover that landed on Mars in 2021 is named Perseverance.\n",
      "\n",
      "Phrase: NASA's rover that landed on Mars in 2021 is named Perseverance.\n",
      "  0.79: What year did the first human land on the moon?\n",
      "  0.80: Which planet is known as the Red Planet?\n",
      "  0.74: What is the largest moon of Saturn?\n",
      "  0.77: Who was the first person to travel into space?\n",
      "  0.93: What is the name of NASA's rover that landed on Mars in 2021?\n",
      "  0.81: The first human landed on the moon in 1969.\n",
      "  0.84: The planet known as the Red Planet is Mars.\n",
      "  0.76: The largest moon of Saturn is Titan.\n",
      "  0.76: Yuri Gagarin was the first person to travel into space.\n",
      "\n"
     ]
    }
   ],
   "source": [
    "# output the comparison between phrases with improved readability\n",
    "for i, phrase in enumerate(astronomy_phrases):\n",
    "    print(f\"Phrase: {phrase}\")\n",
    "    for j, other_phrase in enumerate(astronomy_phrases):\n",
    "        if i != j:\n",
    "            print(f\"  {rounded_astronomy_similarity_matrix[i, j]:.2f}: {other_phrase}\")\n",
    "    print()"
   ]
  },
  {
   "cell_type": "markdown",
   "metadata": {},
   "source": [
    "Q: Was the score able to find the matching questions and answers?\n",
    "A: Yes!"
   ]
  },
  {
   "cell_type": "markdown",
   "metadata": {},
   "source": [
    "# Only one answer is correct\n",
    "\n",
    "Let's do one last one, the most challenging of all, where we have one question, one correct answer, and four wrong answers."
   ]
  },
  {
   "cell_type": "code",
   "execution_count": 14,
   "metadata": {},
   "outputs": [
    {
     "name": "stdout",
     "output_type": "stream",
     "text": [
      "Phrase: What spacecraft was used in the mission to carry the first humans to the moon?\n",
      "Embedding: [ 0.02234936 -0.01276388  0.02098001 -0.01151388 -0.0080214 ]\n"
     ]
    }
   ],
   "source": [
    "multiple_choice_questions = [\n",
    "    \"What spacecraft was used in the mission to carry the first humans to the moon?\",  # Question\n",
    "    \"Apollo 11 was the spacecraft used to carry the first humans to the moon.\",       # Correct Answer\n",
    "    \"Apollo 12 was the spacecraft used to carry the first humans to the moon.\",         # Wrong Answer\n",
    "    \"Apollo 14 was the spacecraft used to carry astronauts on the third successful moon landing mission.\", # Wrong Answer\n",
    "    \"Apollo 10 was the spacecraft used to carry the first humans to the moon.\", # Wrong Answer\n",
    "    \"Apollo 16 was the spacecraft that carried astronauts to explore the lunar highlands.\"   # Wrong Answer\n",
    "]\n",
    "\n",
    "mcq_embeddings = embed_model.get_text_embedding_batch(multiple_choice_questions)\n",
    "mcq_embeddings_array = np.array(mcq_embeddings)\n",
    "\n",
    "# Print the first phrase and the first several elements of its embedding\n",
    "print(f\"Phrase: {multiple_choice_questions[0]}\")\n",
    "print(f\"Embedding: {mcq_embeddings_array[0][:5]}\")"
   ]
  },
  {
   "cell_type": "code",
   "execution_count": 18,
   "metadata": {},
   "outputs": [
    {
     "name": "stdout",
     "output_type": "stream",
     "text": [
      "Cosine Similarity Matrix: [[1.   0.93 0.93 0.89 0.93 0.89]\n",
      " [0.93 1.   0.97 0.93 0.97 0.91]\n",
      " [0.93 0.97 1.   0.93 0.96 0.92]\n",
      " [0.89 0.93 0.93 1.   0.93 0.93]\n",
      " [0.93 0.97 0.96 0.93 1.   0.91]\n",
      " [0.89 0.91 0.92 0.93 0.91 1.  ]]\n",
      "  0.93: Apollo 11 was the spacecraft used to carry the first humans to the moon.\n",
      "  0.93: Apollo 12 was the spacecraft used to carry the first humans to the moon.\n",
      "  0.89: Apollo 14 was the spacecraft used to carry astronauts on the third successful moon landing mission.\n",
      "  0.93: Apollo 10 was the spacecraft used to carry the first humans to the moon.\n",
      "  0.89: Apollo 16 was the spacecraft that carried astronauts to explore the lunar highlands.\n"
     ]
    }
   ],
   "source": [
    "# compute cosine similarity between the embeddings\n",
    "mcq_similarity_matrix = cosine_similarity(mcq_embeddings_array)\n",
    "rounded_mcq_similarity_matrix = np.round(mcq_similarity_matrix, 2)\n",
    "\n",
    "# print the cosine similarity matrix\n",
    "print(f\"Cosine Similarity Matrix: {rounded_mcq_similarity_matrix}\")\n",
    "\n",
    "# Output comparison between question (first element) and answers with improved readability\n",
    "print(f\"Question: {multiple_choice_questions[0]}\")\n",
    "for i in range(1, len(multiple_choice_questions)):\n",
    "    print(f\"  {rounded_mcq_similarity_matrix[0, i]:.2f}: {multiple_choice_questions[i]}\")\n"
   ]
  },
  {
   "cell_type": "code",
   "execution_count": null,
   "metadata": {},
   "outputs": [],
   "source": []
  }
 ],
 "metadata": {
  "kernelspec": {
   "display_name": ".venv",
   "language": "python",
   "name": "python3"
  },
  "language_info": {
   "codemirror_mode": {
    "name": "ipython",
    "version": 3
   },
   "file_extension": ".py",
   "mimetype": "text/x-python",
   "name": "python",
   "nbconvert_exporter": "python",
   "pygments_lexer": "ipython3",
   "version": "3.12.5"
  }
 },
 "nbformat": 4,
 "nbformat_minor": 2
}
