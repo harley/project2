{
 "cells": [
  {
   "cell_type": "code",
   "execution_count": 10,
   "metadata": {},
   "outputs": [
    {
     "name": "stdout",
     "output_type": "stream",
     "text": [
      "Downloaded 20 emails.\n"
     ]
    }
   ],
   "source": [
    "import os\n",
    "import pickle\n",
    "from google.auth.transport.requests import Request\n",
    "from google_auth_oauthlib.flow import InstalledAppFlow\n",
    "from googleapiclient.discovery import build\n",
    "\n",
    "# If modifying these scopes, delete the file token.pickle.\n",
    "SCOPES = ['https://www.googleapis.com/auth/gmail.readonly']\n",
    "\n",
    "def get_gmail_service():\n",
    "    creds = None\n",
    "    # The file token.pickle stores the user's access and refresh tokens, and is\n",
    "    # created automatically when the authorization flow completes for the first time.\n",
    "    if os.path.exists('token.pickle'):\n",
    "        with open('token.pickle', 'rb') as token:\n",
    "            creds = pickle.load(token)\n",
    "    # If there are no (valid) credentials available, let the user log in.\n",
    "    if not creds or not creds.valid:\n",
    "        if creds and creds.expired and creds.refresh_token:\n",
    "            creds.refresh(Request())\n",
    "        else:\n",
    "            flow = InstalledAppFlow.from_client_secrets_file(\n",
    "                'credentials.json', SCOPES)\n",
    "            creds = flow.run_local_server(port=0)\n",
    "        # Save the credentials for the next run\n",
    "        with open('token.pickle', 'wb') as token:\n",
    "            pickle.dump(creds, token)\n",
    "\n",
    "    service = build('gmail', 'v1', credentials=creds)\n",
    "    return service\n",
    "\n",
    "def get_latest_emails(service, max_results=20):\n",
    "    results = service.users().messages().list(userId='me', maxResults=max_results).execute()\n",
    "    messages = results.get('messages', [])\n",
    "\n",
    "    emails = []\n",
    "    for message in messages:\n",
    "        msg = service.users().messages().get(userId='me', id=message['id']).execute()\n",
    "        emails.append(msg)\n",
    "\n",
    "    return emails\n",
    "\n",
    "# Get Gmail service\n",
    "gmail_service = get_gmail_service()\n",
    "\n",
    "# Get latest 20 emails\n",
    "latest_emails = get_latest_emails(gmail_service)\n",
    "\n",
    "print(f\"Downloaded {len(latest_emails)} emails.\")\n"
   ]
  },
  {
   "cell_type": "code",
   "execution_count": 11,
   "metadata": {},
   "outputs": [
    {
     "name": "stdout",
     "output_type": "stream",
     "text": [
      "Subjects of the downloaded emails:\n",
      "1. Hey, how many C's are there in JavaScript?\n",
      "2. Here be Ruby dragons\n",
      "3. New iOS, new macOS, so there's a new Safari, too.\n",
      "4. The heaviest npm packages\n",
      "5. An even faster future for JRuby\n",
      "6. 'Release notes' for the entire web platform?\n",
      "7. Real-time Ruby profiling\n",
      "8. Reverse engineering minified JS with ChatGPT\n",
      "9. Remembering the first decade of web design\n",
      "10. Security alert\n",
      "11. Security alert\n",
      "12. Security alert\n",
      "13. RubyKaigi direct to your living room\n",
      "14. JavaScript's Rust tool belt\n",
      "15. Making your page faster before it even loads\n",
      "16. A regular expression refresher\n",
      "17. Thoughts about static typing in Ruby\n",
      "18. The npm tea party\n",
      "19. Rails 7.2 released\n",
      "20. Should you 'over-engineer' your CSS?\n"
     ]
    }
   ],
   "source": [
    "# Function to extract subject from email\n",
    "def get_email_subject(email):\n",
    "    headers = email['payload']['headers']\n",
    "    subject = next((header['value'] for header in headers if header['name'].lower() == 'subject'), 'No Subject')\n",
    "    return subject\n",
    "\n",
    "# Extract and print subjects of the downloaded emails\n",
    "print(\"Subjects of the downloaded emails:\")\n",
    "for i, email in enumerate(latest_emails, 1):\n",
    "    subject = get_email_subject(email)\n",
    "    print(f\"{i}. {subject}\")\n"
   ]
  },
  {
   "cell_type": "code",
   "execution_count": 12,
   "metadata": {},
   "outputs": [
    {
     "name": "stdout",
     "output_type": "stream",
     "text": [
      "Compiling and running C in JavaScript involves using tools like Emscripten, which can convert C code into WebAssembly or asm.js, allowing it to be executed in a web browser environment. This process enables developers to leverage existing C codebases and libraries within a JavaScript application.\n"
     ]
    }
   ],
   "source": [
    "from llama_index.core import Document, VectorStoreIndex\n",
    "\n",
    "# build documents from latest_emails\n",
    "documents = [Document(text=email.get('snippet')) for email in latest_emails]\n",
    "\n",
    "index = VectorStoreIndex.from_documents(documents)\n",
    "\n",
    "query_engine = index.as_query_engine()\n",
    "\n",
    "response = query_engine.query(\"Tell me about compiling and running C in JavaScript\")\n",
    "\n",
    "print(response)"
   ]
  },
  {
   "cell_type": "code",
   "execution_count": 14,
   "metadata": {},
   "outputs": [
    {
     "name": "stdout",
     "output_type": "stream",
     "text": [
      "The security alerts in the emails notify the account holder about a new passkey being added to their account and a new sign-in on a Mac device. The alerts suggest checking and securing the account if the passkey addition was not authorized and provide assistance in securing the account in case of any unauthorized access.\n"
     ]
    }
   ],
   "source": [
    "from dotenv import load_dotenv\n",
    "load_dotenv()\n",
    "\n",
    "from llama_index.core import set_global_handler\n",
    "set_global_handler(\"langfuse\")\n",
    "\n",
    "\n",
    "response = query_engine.query(\"Tell me about the security alert in the emails\")\n",
    "print(response)"
   ]
  }
 ],
 "metadata": {
  "kernelspec": {
   "display_name": ".venv",
   "language": "python",
   "name": "python3"
  },
  "language_info": {
   "codemirror_mode": {
    "name": "ipython",
    "version": 3
   },
   "file_extension": ".py",
   "mimetype": "text/x-python",
   "name": "python",
   "nbconvert_exporter": "python",
   "pygments_lexer": "ipython3",
   "version": "3.12.5"
  }
 },
 "nbformat": 4,
 "nbformat_minor": 2
}
