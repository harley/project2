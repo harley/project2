{
 "cells": [
  {
   "cell_type": "code",
   "execution_count": 3,
   "metadata": {},
   "outputs": [
    {
     "name": "stdout",
     "output_type": "stream",
     "text": [
      "The strategic plan covers the years 2024-2028.\n"
     ]
    }
   ],
   "source": [
    "from dotenv import load_dotenv\n",
    "from llama_index.core import SimpleDirectoryReader, VectorStoreIndex\n",
    "\n",
    "load_dotenv()\n",
    "\n",
    "documents = SimpleDirectoryReader(\"data\").load_data()\n",
    "\n",
    "# need OPENAI_API_KEY to create an index via OpenAI embeddings\n",
    "index = VectorStoreIndex.from_documents(documents)\n",
    "\n",
    "query_engine = index.as_query_engine()\n",
    "\n",
    "response = query_engine.query(\"What years does the strategic plan cover?\")\n",
    "\n",
    "print(response)"
   ]
  },
  {
   "cell_type": "code",
   "execution_count": 10,
   "metadata": {},
   "outputs": [
    {
     "name": "stdout",
     "output_type": "stream",
     "text": [
      "The problem statement is that many computer science students, particularly those from lower-resourced schools who are often Black, Latino/a, Indigenous, and low-income, lack the industry-relevant skills and support needed to succeed in the tech economy. This results in these students being unable to secure tech internships and software engineering jobs, leading to missed opportunities and economic disadvantages for historically disadvantaged groups.\n"
     ]
    }
   ],
   "source": [
    "print(query_engine.query(\"What's the problem statement?\"))"
   ]
  },
  {
   "cell_type": "code",
   "execution_count": 11,
   "metadata": {},
   "outputs": [
    {
     "name": "stdout",
     "output_type": "stream",
     "text": [
      "CodePath solves these two related problems by providing college students at lower-resourced schools with the skills and support they need to gain access to and thrive in the tech economy.\n"
     ]
    }
   ],
   "source": [
    "print(query_engine.query(\"What's the solution for the problem statement?\"))"
   ]
  },
  {
   "cell_type": "code",
   "execution_count": 12,
   "metadata": {},
   "outputs": [
    {
     "name": "stdout",
     "output_type": "stream",
     "text": [
      "The pillars of the strategic plan are:\n",
      "1. Scale Nationally in Breadth, and Regionally in Depth\n",
      "2. Improve Effectiveness While Reducing Costs\n",
      "3. Develop Sustainable Sources of Revenue\n"
     ]
    }
   ],
   "source": [
    "print(query_engine.query(\"What are the pillars of the strategic plan?\"))"
   ]
  },
  {
   "cell_type": "code",
   "execution_count": null,
   "metadata": {},
   "outputs": [],
   "source": []
  }
 ],
 "metadata": {
  "kernelspec": {
   "display_name": ".venv",
   "language": "python",
   "name": "python3"
  },
  "language_info": {
   "codemirror_mode": {
    "name": "ipython",
    "version": 3
   },
   "file_extension": ".py",
   "mimetype": "text/x-python",
   "name": "python",
   "nbconvert_exporter": "python",
   "pygments_lexer": "ipython3",
   "version": "3.12.5"
  }
 },
 "nbformat": 4,
 "nbformat_minor": 2
}
